{
 "cells": [
  {
   "cell_type": "markdown",
   "id": "89767671",
   "metadata": {},
   "source": []
  },
  {
   "cell_type": "code",
   "execution_count": null,
   "id": "f7560dd8",
   "metadata": {},
   "outputs": [],
   "source": [
    "from IPython.display import Image, display"
   ]
  },
  {
   "cell_type": "markdown",
   "id": "f3177ec9",
   "metadata": {},
   "source": []
  },
  {
   "cell_type": "code",
   "execution_count": null,
   "id": "8514331f",
   "metadata": {},
   "outputs": [
    {
     "ename": "",
     "evalue": "",
     "output_type": "error",
     "traceback": [
      "\u001b[1;31mRunning cells with '.venv (Python 3.12.3)' requires the ipykernel package.\n",
      "\u001b[1;31mInstall 'ipykernel' into the Python environment. \n",
      "\u001b[1;31mCommand: '/home/dobroegl/Sources/az-ai-catalyst/.venv/bin/python -m pip install ipykernel -U --force-reinstall'"
     ]
    }
   ],
   "source": [
    "from pathlib import Path\n",
    "from typing import Annotated\n",
    "\n",
    "from azure.ai.documentintelligence.models import (\n",
    "    AnalyzeDocumentRequest,\n",
    "    DocumentAnalysisFeature,\n",
    "    DocumentContentFormat,\n",
    ")\n",
    "\n",
    "import az_ai.catalyst\n",
    "from az_ai.catalyst import Document, DocumentIntelligenceResult\n",
    "from az_ai.catalyst.helpers.documentation import markdown\n",
    "\n",
    "catalyst = az_ai.catalyst.Catalyst()\n",
    "\n",
    "catalyst.add_document_from_file(\"tests/data/test.pdf\")\n",
    "\n",
    "\n",
    "@catalyst.operation()\n",
    "def apply_document_intelligence(\n",
    "    document: Document,\n",
    ") -> Annotated[DocumentIntelligenceResult, \"document_intelligence_result\"]:\n",
    "    \"\"\"\n",
    "    Apply Document Intelligence to the document and return a fragment with the result.\n",
    "    \"\"\"\n",
    "    poller = catalyst.document_intelligence_client.begin_analyze_document(\n",
    "        model_id=\"prebuilt-layout\",\n",
    "        body=AnalyzeDocumentRequest(\n",
    "            bytes_source=document.content,\n",
    "        ),\n",
    "        features=[\n",
    "            DocumentAnalysisFeature.OCR_HIGH_RESOLUTION,\n",
    "        ],\n",
    "        output_content_format=DocumentContentFormat.Markdown,\n",
    "    )\n",
    "    return DocumentIntelligenceResult.with_source_result(\n",
    "        document,\n",
    "        label=\"document_intelligence_result\",\n",
    "        analyze_result=poller.result(),\n",
    "    )\n",
    "\n",
    "\n",
    "# Write the ingestor's diagram to a markdown file\n",
    "Path(\"examples/doc.md\").write_text(markdown(catalyst, \"Sample Ingestor\"))\n",
    "\n",
    "# Run the ingestor\n",
    "catalyst()"
   ]
  }
 ],
 "metadata": {
  "kernelspec": {
   "display_name": "az-ai-catalyst",
   "language": "python",
   "name": "python3"
  },
  "language_info": {
   "name": "python",
   "version": "3.12.3"
  }
 },
 "nbformat": 4,
 "nbformat_minor": 5
}
